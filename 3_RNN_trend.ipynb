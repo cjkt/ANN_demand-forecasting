{
  "cells": [
    {
      "cell_type": "code",
      "execution_count": null,
      "id": "91e2f76c",
      "metadata": {
        "id": "91e2f76c"
      },
      "outputs": [],
      "source": [
        "import pandas as pd\n",
        "import numpy as np\n",
        "from pandas import DataFrame\n",
        "import matplotlib.pyplot as plt\n",
        "from sklearn.metrics import mean_squared_error\n",
        "from sklearn.model_selection import train_test_split\n",
        "from sklearn.preprocessing import MinMaxScaler\n",
        "from statsmodels.tsa.stattools import adfuller\n",
        "from tensorflow.keras.layers import Dense\n",
        "from tensorflow.keras import layers\n",
        "from tensorflow.keras.layers import LSTM\n",
        "import tensorflow as tf\n",
        "from tensorflow import keras\n",
        "from tensorflow.keras.models import Sequential\n",
        "from tensorflow.keras.layers import Activation, Dense, LSTM\n",
        "from keras.layers.core import Dropout\n",
        "#from tensorflow.keras.optimizers import Adam\n",
        "from keras import optimizers\n",
        "import keras.backend as K\n",
        "from tensorflow.keras.metrics import categorical_crossentropy, mean_squared_error\n",
        "import math\n",
        "from math import sqrt\n",
        "import statsmodels.api as sm\n",
        "import statsmodels.formula.api as smf\n",
        "from statsmodels.tsa.stattools import adfuller\n",
        "import matplotlib.patches as mpatches"
      ]
    },
    {
      "cell_type": "code",
      "execution_count": null,
      "id": "5008b1e5",
      "metadata": {
        "id": "5008b1e5",
        "outputId": "62bfa6ae-776f-4b5b-f679-cb874fe6a187"
      },
      "outputs": [
        {
          "data": {
            "text/html": [
              "<div>\n",
              "<style scoped>\n",
              "    .dataframe tbody tr th:only-of-type {\n",
              "        vertical-align: middle;\n",
              "    }\n",
              "\n",
              "    .dataframe tbody tr th {\n",
              "        vertical-align: top;\n",
              "    }\n",
              "\n",
              "    .dataframe thead th {\n",
              "        text-align: right;\n",
              "    }\n",
              "</style>\n",
              "<table border=\"1\" class=\"dataframe\">\n",
              "  <thead>\n",
              "    <tr style=\"text-align: right;\">\n",
              "      <th></th>\n",
              "      <th>Unnamed: 0</th>\n",
              "      <th>trend</th>\n",
              "    </tr>\n",
              "  </thead>\n",
              "  <tbody>\n",
              "    <tr>\n",
              "      <th>0</th>\n",
              "      <td>2015-07-01</td>\n",
              "      <td>NaN</td>\n",
              "    </tr>\n",
              "    <tr>\n",
              "      <th>1</th>\n",
              "      <td>2015-07-02</td>\n",
              "      <td>NaN</td>\n",
              "    </tr>\n",
              "    <tr>\n",
              "      <th>2</th>\n",
              "      <td>2015-07-03</td>\n",
              "      <td>NaN</td>\n",
              "    </tr>\n",
              "    <tr>\n",
              "      <th>3</th>\n",
              "      <td>2015-07-04</td>\n",
              "      <td>16.000000</td>\n",
              "    </tr>\n",
              "    <tr>\n",
              "      <th>4</th>\n",
              "      <td>2015-07-05</td>\n",
              "      <td>6.857143</td>\n",
              "    </tr>\n",
              "    <tr>\n",
              "      <th>...</th>\n",
              "      <td>...</td>\n",
              "      <td>...</td>\n",
              "    </tr>\n",
              "    <tr>\n",
              "      <th>783</th>\n",
              "      <td>2017-08-22</td>\n",
              "      <td>72.571429</td>\n",
              "    </tr>\n",
              "    <tr>\n",
              "      <th>784</th>\n",
              "      <td>2017-08-23</td>\n",
              "      <td>70.714286</td>\n",
              "    </tr>\n",
              "    <tr>\n",
              "      <th>785</th>\n",
              "      <td>2017-08-24</td>\n",
              "      <td>NaN</td>\n",
              "    </tr>\n",
              "    <tr>\n",
              "      <th>786</th>\n",
              "      <td>2017-08-25</td>\n",
              "      <td>NaN</td>\n",
              "    </tr>\n",
              "    <tr>\n",
              "      <th>787</th>\n",
              "      <td>2017-08-26</td>\n",
              "      <td>NaN</td>\n",
              "    </tr>\n",
              "  </tbody>\n",
              "</table>\n",
              "<p>788 rows × 2 columns</p>\n",
              "</div>"
            ],
            "text/plain": [
              "     Unnamed: 0      trend\n",
              "0    2015-07-01        NaN\n",
              "1    2015-07-02        NaN\n",
              "2    2015-07-03        NaN\n",
              "3    2015-07-04  16.000000\n",
              "4    2015-07-05   6.857143\n",
              "..          ...        ...\n",
              "783  2017-08-22  72.571429\n",
              "784  2017-08-23  70.714286\n",
              "785  2017-08-24        NaN\n",
              "786  2017-08-25        NaN\n",
              "787  2017-08-26        NaN\n",
              "\n",
              "[788 rows x 2 columns]"
            ]
          },
          "execution_count": 2,
          "metadata": {},
          "output_type": "execute_result"
        }
      ],
      "source": [
        "# data import\n",
        "data = pd.read_csv('trend_decomposed.csv')\n",
        "data"
      ]
    },
    {
      "cell_type": "markdown",
      "id": "73148e54",
      "metadata": {
        "id": "73148e54"
      },
      "source": [
        "preprocess"
      ]
    },
    {
      "cell_type": "code",
      "execution_count": null,
      "id": "5252543a",
      "metadata": {
        "id": "5252543a",
        "outputId": "b5a79c50-f9e2-4213-da11-e69f7b999876"
      },
      "outputs": [
        {
          "data": {
            "text/plain": [
              "[<matplotlib.lines.Line2D at 0x2837514a280>]"
            ]
          },
          "execution_count": 3,
          "metadata": {},
          "output_type": "execute_result"
        },
        {
          "data": {
            "image/png": "[encoded data removed]",
            "text/plain": [
              "<Figure size 432x288 with 1 Axes>"
            ]
          },
          "metadata": {
            "needs_background": "light"
          },
          "output_type": "display_data"
        }
      ],
      "source": [
        "data = data[pd.notnull(data['trend'])]\n",
        "df = data['trend']\n",
        "plt.plot(df)"
      ]
    },
    {
      "cell_type": "markdown",
      "id": "21a8aec5",
      "metadata": {
        "id": "21a8aec5"
      },
      "source": [
        "ADF stationary test"
      ]
    },
    {
      "cell_type": "code",
      "execution_count": null,
      "id": "0ba8a893",
      "metadata": {
        "id": "0ba8a893",
        "outputId": "056b6561-bdc1-468e-a854-8c68e5a62c40"
      },
      "outputs": [
        {
          "name": "stdout",
          "output_type": "stream",
          "text": [
            "ADF Statistic: -3.004756\n",
            "p-value: 0.034453\n",
            "Critical Values:\n",
            "\t1%: -3.439\n",
            "\t5%: -2.865\n",
            "\t10%: -2.569\n"
          ]
        }
      ],
      "source": [
        "series = df\n",
        "adf = adfuller(series)\n",
        "\n",
        "print('ADF Statistic: %f' % adf[0])\n",
        "print('p-value: %f' % adf[1])\n",
        "print('Critical Values:')\n",
        "for key, value in adf[4].items():\n",
        "    print('\\t%s: %.3f' % (key, value))"
      ]
    },
    {
      "cell_type": "code",
      "execution_count": null,
      "id": "df9154cc",
      "metadata": {
        "id": "df9154cc",
        "outputId": "b74667de-66bb-4892-9f9b-81d710a6c6c4"
      },
      "outputs": [
        {
          "data": {
            "text/plain": [
              "(782, 1)"
            ]
          },
          "execution_count": 5,
          "metadata": {},
          "output_type": "execute_result"
        }
      ],
      "source": [
        "data = pd.DataFrame(series)\n",
        "data = np.array(data)\n",
        "data.shape"
      ]
    },
    {
      "cell_type": "markdown",
      "id": "2766bd09",
      "metadata": {
        "id": "2766bd09"
      },
      "source": [
        "Data split (8:2)"
      ]
    },
    {
      "cell_type": "code",
      "execution_count": null,
      "id": "f63ce087",
      "metadata": {
        "id": "f63ce087",
        "outputId": "224ced41-801a-4c05-ea44-ba65d3abaaa8"
      },
      "outputs": [
        {
          "name": "stdout",
          "output_type": "stream",
          "text": [
            "(625, 1)\n",
            "(157, 1)\n"
          ]
        }
      ],
      "source": [
        "size = int(len(data)*0.8)\n",
        "train = data[0:size,:]\n",
        "test = data[size:len(data),:]\n",
        "print(train.shape)\n",
        "print(test.shape)"
      ]
    },
    {
      "cell_type": "markdown",
      "id": "30528968",
      "metadata": {
        "id": "30528968"
      },
      "source": [
        "Data normalization (0 to 1)"
      ]
    },
    {
      "cell_type": "code",
      "execution_count": null,
      "id": "72128a53",
      "metadata": {
        "id": "72128a53",
        "outputId": "24ec989e-30f8-44a3-8e5c-68f6e641a74c"
      },
      "outputs": [
        {
          "data": {
            "text/plain": [
              "Text(0.5, 1.0, 'Normalized training data')"
            ]
          },
          "execution_count": 7,
          "metadata": {},
          "output_type": "execute_result"
        },
        {
          "data": {
            "image/png": "[encoded data removed]",
            "text/plain": [
              "<Figure size 432x288 with 1 Axes>"
            ]
          },
          "metadata": {
            "needs_background": "light"
          },
          "output_type": "display_data"
        }
      ],
      "source": [
        "scale = MinMaxScaler(feature_range=(0,1))\n",
        "train = scale.fit_transform(train)\n",
        "test = scale.fit_transform(test)\n",
        "\n",
        "plt.plot(train)\n",
        "plt.ylabel('Cancellations')\n",
        "plt.title('Normalized training data')"
      ]
    },
    {
      "cell_type": "markdown",
      "id": "63ba27e8",
      "metadata": {
        "id": "63ba27e8"
      },
      "source": [
        "creating inout sequence"
      ]
    },
    {
      "cell_type": "code",
      "execution_count": null,
      "id": "7da902aa",
      "metadata": {
        "id": "7da902aa"
      },
      "outputs": [],
      "source": [
        "def inout(df, previous=1):\n",
        "    dataX, dataY = [], []\n",
        "    for i in range(len(df)-previous-1):\n",
        "        a = df[i:(i+previous), 0]\n",
        "        dataX.append(a)\n",
        "        dataY.append(df[i + previous, 0])\n",
        "    return np.array(dataX), np.array(dataY)"
      ]
    },
    {
      "cell_type": "code",
      "execution_count": null,
      "id": "34b762bb",
      "metadata": {
        "id": "34b762bb"
      },
      "outputs": [],
      "source": [
        "# training window\n",
        "tw = 30"
      ]
    },
    {
      "cell_type": "code",
      "execution_count": null,
      "id": "63858d0f",
      "metadata": {
        "id": "63858d0f",
        "outputId": "5f7f9981-af70-4923-93c2-3d14b9054045"
      },
      "outputs": [
        {
          "name": "stdout",
          "output_type": "stream",
          "text": [
            "(594, 1, 30)\n",
            "(594,)\n",
            "(126, 1, 30)\n",
            "(126,)\n"
          ]
        }
      ],
      "source": [
        "train_x, train_y = inout(train,tw)\n",
        "train_x = np.reshape(train_x,(train_x.shape[0],1,train_x.shape[1]))\n",
        "test_x, test_y = inout(test,tw)\n",
        "test_x = np.reshape(test_x,(test_x.shape[0],1,test_x.shape[1]))\n",
        "\n",
        "print(train_x.shape)\n",
        "print(train_y.shape)\n",
        "print(test_x.shape)\n",
        "print(test_y.shape)"
      ]
    },
    {
      "cell_type": "markdown",
      "id": "a00962b0",
      "metadata": {
        "id": "a00962b0"
      },
      "source": [
        "Modeling"
      ]
    },
    {
      "cell_type": "code",
      "execution_count": null,
      "id": "188053db",
      "metadata": {
        "id": "188053db",
        "outputId": "07dff72a-a742-4c82-fcf4-755a8a5479ea"
      },
      "outputs": [
        {
          "name": "stdout",
          "output_type": "stream",
          "text": [
            "Model: \"sequential\"\n",
            "_________________________________________________________________\n",
            "Layer (type)                 Output Shape              Param #   \n",
            "=================================================================\n",
            "simple_rnn (SimpleRNN)       (None, 1, 50)             4050      \n",
            "_________________________________________________________________\n",
            "dropout (Dropout)            (None, 1, 50)             0         \n",
            "_________________________________________________________________\n",
            "simple_rnn_1 (SimpleRNN)     (None, 10)                610       \n",
            "_________________________________________________________________\n",
            "dropout_1 (Dropout)          (None, 10)                0         \n",
            "_________________________________________________________________\n",
            "dense (Dense)                (None, 1)                 11        \n",
            "=================================================================\n",
            "Total params: 4,671\n",
            "Trainable params: 4,671\n",
            "Non-trainable params: 0\n",
            "_________________________________________________________________\n"
          ]
        }
      ],
      "source": [
        "# model setting\n",
        "def rmse (y_true, y_pred):\n",
        "    return K.sqrt(K.mean(K.square(y_pred -y_true), axis=-1))\n",
        "\n",
        "model = Sequential()\n",
        "model.add(layers.SimpleRNN(50, return_sequences=True,\n",
        "               input_shape=(1,tw)))\n",
        "model.add(Dropout(0.2))\n",
        "model.add(layers.SimpleRNN(10, return_sequences=False))\n",
        "model.add(Dropout(0.1))\n",
        "model.add(Dense(1, activation = 'linear'))\n",
        "\n",
        "# optimizer, loss function\n",
        "model.compile(optimizer = 'adam', loss='mean_squared_error')\n",
        "\n",
        "# summary\n",
        "model.summary()"
      ]
    },
    {
      "cell_type": "code",
      "execution_count": null,
      "id": "3352440d",
      "metadata": {
        "id": "3352440d",
        "outputId": "99cc8d88-ddc5-467c-f642-dce1c1ed4d25"
      },
      "outputs": [
        {
          "name": "stdout",
          "output_type": "stream",
          "text": [
            "Epoch 1/100\n",
            "60/60 - 2s - loss: 0.1383 - val_loss: 0.0285\n",
            "Epoch 2/100\n",
            "60/60 - 0s - loss: 0.0731 - val_loss: 0.0237\n",
            "Epoch 3/100\n",
            "60/60 - 0s - loss: 0.0442 - val_loss: 0.0237\n",
            "Epoch 4/100\n",
            "60/60 - 0s - loss: 0.0342 - val_loss: 0.0206\n",
            "Epoch 5/100\n",
            "60/60 - 0s - loss: 0.0269 - val_loss: 0.0185\n",
            "Epoch 6/100\n",
            "60/60 - 0s - loss: 0.0238 - val_loss: 0.0181\n",
            "Epoch 7/100\n",
            "60/60 - 0s - loss: 0.0177 - val_loss: 0.0178\n",
            "Epoch 8/100\n",
            "60/60 - 0s - loss: 0.0230 - val_loss: 0.0163\n",
            "Epoch 9/100\n",
            "60/60 - 0s - loss: 0.0171 - val_loss: 0.0173\n",
            "Epoch 10/100\n",
            "60/60 - 0s - loss: 0.0181 - val_loss: 0.0163\n",
            "Epoch 11/100\n",
            "60/60 - 0s - loss: 0.0168 - val_loss: 0.0148\n",
            "Epoch 12/100\n",
            "60/60 - 0s - loss: 0.0149 - val_loss: 0.0151\n",
            "Epoch 13/100\n",
            "60/60 - 0s - loss: 0.0155 - val_loss: 0.0141\n",
            "Epoch 14/100\n",
            "60/60 - 0s - loss: 0.0133 - val_loss: 0.0145\n",
            "Epoch 15/100\n",
            "60/60 - 0s - loss: 0.0144 - val_loss: 0.0145\n",
            "Epoch 16/100\n",
            "60/60 - 0s - loss: 0.0132 - val_loss: 0.0137\n",
            "Epoch 17/100\n",
            "60/60 - 0s - loss: 0.0148 - val_loss: 0.0138\n",
            "Epoch 18/100\n",
            "60/60 - 0s - loss: 0.0131 - val_loss: 0.0133\n",
            "Epoch 19/100\n",
            "60/60 - 0s - loss: 0.0131 - val_loss: 0.0151\n",
            "Epoch 20/100\n",
            "60/60 - 0s - loss: 0.0116 - val_loss: 0.0137\n",
            "Epoch 21/100\n",
            "60/60 - 0s - loss: 0.0127 - val_loss: 0.0126\n",
            "Epoch 22/100\n",
            "60/60 - 0s - loss: 0.0133 - val_loss: 0.0132\n",
            "Epoch 23/100\n",
            "60/60 - 0s - loss: 0.0115 - val_loss: 0.0124\n",
            "Epoch 24/100\n",
            "60/60 - 0s - loss: 0.0122 - val_loss: 0.0134\n",
            "Epoch 25/100\n",
            "60/60 - 0s - loss: 0.0122 - val_loss: 0.0134\n",
            "Epoch 26/100\n",
            "60/60 - 0s - loss: 0.0106 - val_loss: 0.0126\n",
            "Epoch 27/100\n",
            "60/60 - 0s - loss: 0.0116 - val_loss: 0.0123\n",
            "Epoch 28/100\n",
            "60/60 - 0s - loss: 0.0109 - val_loss: 0.0134\n",
            "Epoch 29/100\n",
            "60/60 - 0s - loss: 0.0092 - val_loss: 0.0149\n",
            "Epoch 30/100\n",
            "60/60 - 0s - loss: 0.0125 - val_loss: 0.0129\n",
            "Epoch 31/100\n",
            "60/60 - 0s - loss: 0.0100 - val_loss: 0.0126\n",
            "Epoch 32/100\n",
            "60/60 - 0s - loss: 0.0102 - val_loss: 0.0124\n",
            "Epoch 33/100\n",
            "60/60 - 0s - loss: 0.0085 - val_loss: 0.0126\n",
            "Epoch 34/100\n",
            "60/60 - 0s - loss: 0.0091 - val_loss: 0.0122\n",
            "Epoch 35/100\n",
            "60/60 - 0s - loss: 0.0079 - val_loss: 0.0123\n",
            "Epoch 36/100\n",
            "60/60 - 0s - loss: 0.0091 - val_loss: 0.0124\n",
            "Epoch 37/100\n",
            "60/60 - 0s - loss: 0.0081 - val_loss: 0.0122\n",
            "Epoch 38/100\n",
            "60/60 - 0s - loss: 0.0084 - val_loss: 0.0125\n",
            "Epoch 39/100\n",
            "60/60 - 0s - loss: 0.0075 - val_loss: 0.0122\n",
            "Epoch 40/100\n",
            "60/60 - 0s - loss: 0.0095 - val_loss: 0.0130\n",
            "Epoch 41/100\n",
            "60/60 - 0s - loss: 0.0079 - val_loss: 0.0125\n",
            "Epoch 42/100\n",
            "60/60 - 0s - loss: 0.0074 - val_loss: 0.0122\n",
            "Epoch 43/100\n",
            "60/60 - 0s - loss: 0.0093 - val_loss: 0.0119\n",
            "Epoch 44/100\n",
            "60/60 - 0s - loss: 0.0079 - val_loss: 0.0139\n",
            "Epoch 45/100\n",
            "60/60 - 0s - loss: 0.0079 - val_loss: 0.0120\n",
            "Epoch 46/100\n",
            "60/60 - 0s - loss: 0.0069 - val_loss: 0.0122\n",
            "Epoch 47/100\n",
            "60/60 - 0s - loss: 0.0083 - val_loss: 0.0119\n",
            "Epoch 48/100\n",
            "60/60 - 0s - loss: 0.0076 - val_loss: 0.0117\n",
            "Epoch 49/100\n",
            "60/60 - 0s - loss: 0.0069 - val_loss: 0.0125\n",
            "Epoch 50/100\n",
            "60/60 - 0s - loss: 0.0076 - val_loss: 0.0138\n",
            "Epoch 51/100\n",
            "60/60 - 0s - loss: 0.0079 - val_loss: 0.0120\n",
            "Epoch 52/100\n",
            "60/60 - 0s - loss: 0.0075 - val_loss: 0.0119\n",
            "Epoch 53/100\n",
            "60/60 - 0s - loss: 0.0069 - val_loss: 0.0132\n",
            "Epoch 54/100\n",
            "60/60 - 0s - loss: 0.0063 - val_loss: 0.0117\n",
            "Epoch 55/100\n",
            "60/60 - 0s - loss: 0.0067 - val_loss: 0.0118\n",
            "Epoch 56/100\n",
            "60/60 - 0s - loss: 0.0067 - val_loss: 0.0115\n",
            "Epoch 57/100\n",
            "60/60 - 0s - loss: 0.0063 - val_loss: 0.0123\n",
            "Epoch 58/100\n",
            "60/60 - 0s - loss: 0.0061 - val_loss: 0.0119\n",
            "Epoch 59/100\n",
            "60/60 - 0s - loss: 0.0063 - val_loss: 0.0120\n",
            "Epoch 60/100\n",
            "60/60 - 0s - loss: 0.0065 - val_loss: 0.0115\n",
            "Epoch 61/100\n",
            "60/60 - 0s - loss: 0.0066 - val_loss: 0.0125\n",
            "Epoch 62/100\n",
            "60/60 - 0s - loss: 0.0058 - val_loss: 0.0119\n",
            "Epoch 63/100\n",
            "60/60 - 0s - loss: 0.0059 - val_loss: 0.0117\n",
            "Epoch 64/100\n",
            "60/60 - 0s - loss: 0.0058 - val_loss: 0.0135\n",
            "Epoch 65/100\n",
            "60/60 - 0s - loss: 0.0063 - val_loss: 0.0119\n",
            "Epoch 66/100\n",
            "60/60 - 0s - loss: 0.0066 - val_loss: 0.0115\n",
            "Epoch 67/100\n",
            "60/60 - 0s - loss: 0.0053 - val_loss: 0.0114\n",
            "Epoch 68/100\n",
            "60/60 - 0s - loss: 0.0059 - val_loss: 0.0119\n",
            "Epoch 69/100\n",
            "60/60 - 0s - loss: 0.0058 - val_loss: 0.0113\n",
            "Epoch 70/100\n",
            "60/60 - 0s - loss: 0.0053 - val_loss: 0.0114\n",
            "Epoch 71/100\n",
            "60/60 - 0s - loss: 0.0053 - val_loss: 0.0118\n",
            "Epoch 72/100\n",
            "60/60 - 0s - loss: 0.0052 - val_loss: 0.0121\n",
            "Epoch 73/100\n",
            "60/60 - 0s - loss: 0.0055 - val_loss: 0.0115\n",
            "Epoch 74/100\n",
            "60/60 - 0s - loss: 0.0052 - val_loss: 0.0120\n",
            "Epoch 75/100\n",
            "60/60 - 0s - loss: 0.0057 - val_loss: 0.0134\n",
            "Epoch 76/100\n",
            "60/60 - 0s - loss: 0.0055 - val_loss: 0.0111\n",
            "Epoch 77/100\n",
            "60/60 - 0s - loss: 0.0055 - val_loss: 0.0119\n",
            "Epoch 78/100\n",
            "60/60 - 0s - loss: 0.0046 - val_loss: 0.0118\n",
            "Epoch 79/100\n",
            "60/60 - 0s - loss: 0.0054 - val_loss: 0.0113\n",
            "Epoch 80/100\n",
            "60/60 - 0s - loss: 0.0057 - val_loss: 0.0115\n",
            "Epoch 81/100\n",
            "60/60 - 0s - loss: 0.0046 - val_loss: 0.0120\n",
            "Epoch 82/100\n",
            "60/60 - 0s - loss: 0.0049 - val_loss: 0.0113\n",
            "Epoch 83/100\n",
            "60/60 - 0s - loss: 0.0048 - val_loss: 0.0119\n",
            "Epoch 84/100\n",
            "60/60 - 0s - loss: 0.0047 - val_loss: 0.0121\n",
            "Epoch 85/100\n",
            "60/60 - 0s - loss: 0.0043 - val_loss: 0.0121\n",
            "Epoch 86/100\n",
            "60/60 - 0s - loss: 0.0053 - val_loss: 0.0118\n",
            "Epoch 87/100\n",
            "60/60 - 0s - loss: 0.0046 - val_loss: 0.0112\n",
            "Epoch 88/100\n",
            "60/60 - 0s - loss: 0.0047 - val_loss: 0.0111\n",
            "Epoch 89/100\n",
            "60/60 - 0s - loss: 0.0046 - val_loss: 0.0113\n",
            "Epoch 90/100\n",
            "60/60 - 0s - loss: 0.0054 - val_loss: 0.0112\n",
            "Epoch 91/100\n",
            "60/60 - 0s - loss: 0.0046 - val_loss: 0.0110\n",
            "Epoch 92/100\n",
            "60/60 - 0s - loss: 0.0049 - val_loss: 0.0118\n",
            "Epoch 93/100\n",
            "60/60 - 0s - loss: 0.0038 - val_loss: 0.0115\n",
            "Epoch 94/100\n",
            "60/60 - 0s - loss: 0.0052 - val_loss: 0.0112\n",
            "Epoch 95/100\n",
            "60/60 - 0s - loss: 0.0042 - val_loss: 0.0113\n",
            "Epoch 96/100\n",
            "60/60 - 0s - loss: 0.0040 - val_loss: 0.0115\n",
            "Epoch 97/100\n",
            "60/60 - 0s - loss: 0.0046 - val_loss: 0.0112\n",
            "Epoch 98/100\n",
            "60/60 - 0s - loss: 0.0038 - val_loss: 0.0110\n",
            "Epoch 99/100\n",
            "60/60 - 0s - loss: 0.0042 - val_loss: 0.0129\n",
            "Epoch 100/100\n",
            "60/60 - 0s - loss: 0.0054 - val_loss: 0.0112\n"
          ]
        }
      ],
      "source": [
        "fitting = model.fit(train_x, train_y,\n",
        "                    #validation_split=0.2,\n",
        "                    validation_data = (test_x, test_y),\n",
        "                    epochs=100,\n",
        "                    batch_size=10, \n",
        "                    verbose=2) # show training sequence"
      ]
    },
    {
      "cell_type": "markdown",
      "id": "e548d553",
      "metadata": {
        "id": "e548d553"
      },
      "source": [
        "Evaluation"
      ]
    },
    {
      "cell_type": "code",
      "execution_count": null,
      "id": "e29040d2",
      "metadata": {
        "id": "e29040d2"
      },
      "outputs": [],
      "source": [
        "# plot loss history function\n",
        "def loss_plot(loss, val_loss):\n",
        "  #plt.figure(figsize=(13,7))\n",
        "  plt.plot(loss)\n",
        "  plt.plot(val_loss)\n",
        "  plt.title('Loss evaluation')\n",
        "  plt.legend(['Train','Validation'])\n",
        "  plt.xlabel('Epochs')\n",
        "  plt.ylabel('Loss')\n",
        "#  plt.show()"
      ]
    },
    {
      "cell_type": "code",
      "execution_count": null,
      "id": "85fd87df",
      "metadata": {
        "id": "85fd87df",
        "outputId": "9df22766-97b5-4510-fd53-4dd0f3b9247e"
      },
      "outputs": [
        {
          "data": {
            "image/png": "[encoded data removed]",
            "text/plain": [
              "<Figure size 432x288 with 1 Axes>"
            ]
          },
          "metadata": {
            "needs_background": "light"
          },
          "output_type": "display_data"
        }
      ],
      "source": [
        "# loss history\n",
        "loss_plot(fitting.history['loss'],\n",
        "        fitting.history['val_loss'])\n",
        "plt.savefig(\"RNN trend loss eval.png\")"
      ]
    },
    {
      "cell_type": "code",
      "execution_count": null,
      "id": "b752f9cb",
      "metadata": {
        "id": "b752f9cb",
        "outputId": "b1039f7c-28cc-4663-d744-8f4d756160e3"
      },
      "outputs": [
        {
          "name": "stdout",
          "output_type": "stream",
          "text": [
            "Training data score: 1.31 RMSE\n",
            "Test data score: 2.87 RMSE\n"
          ]
        }
      ],
      "source": [
        "# RMSE score\n",
        "def predict_and_score(model, X, Y):\n",
        "    pred = scale.inverse_transform(model.predict(X))\n",
        "    orig_data = scale.inverse_transform([Y])\n",
        "    score = math.sqrt(mean_squared_error(orig_data[0], pred[:, 0]))\n",
        "    return(score, pred)\n",
        "\n",
        "rmse_train, train_predict = predict_and_score(model, train_x, train_y)\n",
        "rmse_test, test_predict = predict_and_score(model, test_x, test_y)\n",
        "\n",
        "print(\"Training data score: %.2f RMSE\" % rmse_train)\n",
        "print(\"Test data score: %.2f RMSE\" % rmse_test)"
      ]
    },
    {
      "cell_type": "markdown",
      "id": "5f6f9b48",
      "metadata": {
        "id": "5f6f9b48"
      },
      "source": [
        "Prediction"
      ]
    },
    {
      "cell_type": "code",
      "execution_count": null,
      "id": "cc9cf524",
      "metadata": {
        "id": "cc9cf524",
        "outputId": "a4d2d997-7259-4867-e0e9-623610b41a58"
      },
      "outputs": [
        {
          "name": "stdout",
          "output_type": "stream",
          "text": [
            "(594, 1)\n",
            "(126, 1)\n"
          ]
        }
      ],
      "source": [
        "# forecast on training set\n",
        "train_fcst = model.predict(train_x)\n",
        "# forecast on test set\n",
        "test_fcst = model.predict(test_x)\n",
        "\n",
        "\n",
        "print(train_fcst.shape)\n",
        "print(test_fcst.shape)"
      ]
    },
    {
      "cell_type": "code",
      "execution_count": null,
      "id": "dd69719e",
      "metadata": {
        "id": "dd69719e",
        "outputId": "c1733554-15f5-420e-d82e-38a2bd15e224"
      },
      "outputs": [
        {
          "name": "stdout",
          "output_type": "stream",
          "text": [
            "Training MDA: 49.479168147783724 %\n",
            "Testing MDA:  48.8 %\n"
          ]
        }
      ],
      "source": [
        "# mean directional accuracy\n",
        "def mda(actual: np.ndarray, predicted: np.ndarray):\n",
        "    return np.mean((np.sign(actual[1:] - actual[:-1]) ==\\\n",
        "                    np.sign(predicted[1:] - predicted[:-1])).astype(int))*100\n",
        "\n",
        "print('Training MDA:', mda(train_y, train_fcst),'%')\n",
        "print('Testing MDA: ',mda(test_y, test_fcst),'%')"
      ]
    },
    {
      "cell_type": "code",
      "execution_count": null,
      "id": "53350f87",
      "metadata": {
        "id": "53350f87",
        "outputId": "8afe7cb5-fcf7-44ab-c6d9-6750ef98938c"
      },
      "outputs": [
        {
          "data": {
            "text/plain": [
              "[<matplotlib.lines.Line2D at 0x2831c160d30>]"
            ]
          },
          "execution_count": 18,
          "metadata": {},
          "output_type": "execute_result"
        },
        {
          "data": {
            "image/png": "[encoded data removed]",
            "text/plain": [
              "<Figure size 432x288 with 1 Axes>"
            ]
          },
          "metadata": {
            "needs_background": "light"
          },
          "output_type": "display_data"
        }
      ],
      "source": [
        "# forecast on training\n",
        "plt.plot(scale.inverse_transform(train_y.reshape(-1,1)))\n",
        "plt.plot(scale.inverse_transform(train_fcst))"
      ]
    },
    {
      "cell_type": "code",
      "execution_count": null,
      "id": "43c388ed",
      "metadata": {
        "id": "43c388ed",
        "outputId": "4fe6f79f-8477-403b-f410-823dc0571aff"
      },
      "outputs": [
        {
          "data": {
            "image/png": "[encoded data removed]",
            "text/plain": [
              "<Figure size 432x288 with 1 Axes>"
            ]
          },
          "metadata": {
            "needs_background": "light"
          },
          "output_type": "display_data"
        }
      ],
      "source": [
        "# forecast on testing data\n",
        "plt.plot(scale.inverse_transform(test_y.reshape(-1,1)))\n",
        "plt.plot(scale.inverse_transform(test_fcst), 'g')\n",
        "plt.legend(['Test data','Forecast'])\n",
        "plt.title(\"RNN performance on extracted trend (Test data vs. Forecast)\")\n",
        "plt.ylabel('Bookings')\n",
        "plt.xlabel('Days')\n",
        "\n",
        "#left, bottom, width, height = (100, 60, 20, 30)\n",
        "#rect=mpatches.Rectangle((left,bottom),width,height, \n",
        "#                        fill=False,\n",
        "#                        color=\"red\",\n",
        "#                       linewidth=1)\n",
        "\n",
        "#plt.gca().add_patch(rect)\n",
        "\n",
        "#plt.show()\n",
        "\n",
        "plt.savefig(\"RNN trend.png\")"
      ]
    },
    {
      "cell_type": "code",
      "execution_count": null,
      "id": "ae149145",
      "metadata": {
        "id": "ae149145"
      },
      "outputs": [],
      "source": [
        ""
      ]
    },
    {
      "cell_type": "code",
      "execution_count": null,
      "id": "23ccee61",
      "metadata": {
        "id": "23ccee61"
      },
      "outputs": [],
      "source": [
        ""
      ]
    }
  ],
  "metadata": {
    "kernelspec": {
      "display_name": "lab_pytorch",
      "language": "python",
      "name": "lab_pytorch"
    },
    "language_info": {
      "codemirror_mode": {
        "name": "ipython",
        "version": 3
      },
      "file_extension": ".py",
      "mimetype": "text/x-python",
      "name": "python",
      "nbconvert_exporter": "python",
      "pygments_lexer": "ipython3",
      "version": "3.8.11"
    },
    "colab": {
      "name": "3. RNN_trend.ipynb",
      "provenance": []
    }
  },
  "nbformat": 4,
  "nbformat_minor": 5
}